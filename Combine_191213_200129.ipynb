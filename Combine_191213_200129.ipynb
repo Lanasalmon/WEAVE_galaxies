{
 "cells": [
  {
   "cell_type": "code",
   "execution_count": 51,
   "metadata": {
    "collapsed": true
   },
   "outputs": [],
   "source": [
    "import pandas as pd\n",
    "import numpy as np"
   ]
  },
  {
   "cell_type": "markdown",
   "metadata": {},
   "source": [
    "# Join results tables together"
   ]
  },
  {
   "cell_type": "code",
   "execution_count": 52,
   "metadata": {},
   "outputs": [
    {
     "name": "stderr",
     "output_type": "stream",
     "text": [
      "/anaconda3/lib/python3.6/site-packages/IPython/core/interactiveshell.py:3072: DtypeWarning: Columns (2,3,4,6) have mixed types.Specify dtype option on import or set low_memory=False.\n",
      "  interactivity=interactivity, compiler=compiler, result=result)\n",
      "/anaconda3/lib/python3.6/site-packages/IPython/core/interactiveshell.py:3072: DtypeWarning: Columns (2,3,4,24,25) have mixed types.Specify dtype option on import or set low_memory=False.\n",
      "  interactivity=interactivity, compiler=compiler, result=result)\n"
     ]
    }
   ],
   "source": [
    "df_200219=pd.read_csv('200219_results.csv')\n",
    "df_191213=pd.read_csv('191213g_results.csv')\n",
    "final_results=pd.concat([df_200219,df_191213], axis=0)\n",
    "final_results=final_results.reset_index(drop=True)"
   ]
  },
  {
   "cell_type": "code",
   "execution_count": 53,
   "metadata": {
    "collapsed": true
   },
   "outputs": [],
   "source": [
    "final_results_ps1=final_results[final_results['source']=='PS1']\n",
    "\n",
    "final_results_ps1[['our_id','RA','Dec']].to_csv('ps1_sources_for_gaia.csv')"
   ]
  },
  {
   "cell_type": "markdown",
   "metadata": {},
   "source": [
    "# Load in xmatch"
   ]
  },
  {
   "cell_type": "code",
   "execution_count": 54,
   "metadata": {
    "collapsed": true
   },
   "outputs": [],
   "source": [
    "xmatch=pd.read_csv('gaia_xmatch_result.csv')"
   ]
  },
  {
   "cell_type": "markdown",
   "metadata": {},
   "source": [
    "# Cut on astrometric error and proper motion"
   ]
  },
  {
   "cell_type": "code",
   "execution_count": 55,
   "metadata": {},
   "outputs": [
    {
     "name": "stdout",
     "output_type": "stream",
     "text": [
      "0.8511615078820235 166.74739273060956 -75.2187536114139 69.89171461007075\n"
     ]
    }
   ],
   "source": [
    "xmatch['uwe']=np.sqrt(xmatch['astrometric_chi2_al']/(xmatch['astrometric_n_good_obs_al']-5))\n",
    "print(min(xmatch['uwe']), max(xmatch['uwe']), np.nanmin(xmatch['pmra']), np.nanmax(xmatch['pmdec']))\n",
    "#and cut on pmra pmdec\n"
   ]
  },
  {
   "cell_type": "code",
   "execution_count": 56,
   "metadata": {},
   "outputs": [
    {
     "name": "stdout",
     "output_type": "stream",
     "text": [
      "1.9233025757016435 -2.313913060327456\n"
     ]
    }
   ],
   "source": [
    "print(np.mean(xmatch['uwe']),np.mean(xmatch['pmra']))"
   ]
  },
  {
   "cell_type": "code",
   "execution_count": 57,
   "metadata": {
    "collapsed": true
   },
   "outputs": [],
   "source": [
    "xmatch_cut=xmatch[(xmatch['uwe']>1.5) & (np.abs(xmatch['pmra']<3) | (xmatch['pmra']==np.nan)) & (np.abs(xmatch['pmdec']<3) | (xmatch['pmdec']==np.nan))]"
   ]
  },
  {
   "cell_type": "markdown",
   "metadata": {},
   "source": [
    "# Recombine gaia-limited df with ps1/GLADE columns"
   ]
  },
  {
   "cell_type": "code",
   "execution_count": 60,
   "metadata": {
    "collapsed": true
   },
   "outputs": [],
   "source": [
    "total_cut_df = pd.merge(xmatch_cut, final_results_ps1, how='left', on=['our_id', 'our_id'])\n",
    "\n",
    "final_results_glade=final_results[final_results['source']=='GLADE']\n",
    "final_results=pd.concat([total_cut_df,final_results_glade], axis=0)\n",
    "final_results=final_results.reset_index(drop=True)"
   ]
  },
  {
   "cell_type": "code",
   "execution_count": null,
   "metadata": {
    "collapsed": true
   },
   "outputs": [],
   "source": []
  }
 ],
 "metadata": {
  "kernelspec": {
   "display_name": "Python 3",
   "language": "python",
   "name": "python3"
  },
  "language_info": {
   "codemirror_mode": {
    "name": "ipython",
    "version": 3
   },
   "file_extension": ".py",
   "mimetype": "text/x-python",
   "name": "python",
   "nbconvert_exporter": "python",
   "pygments_lexer": "ipython3",
   "version": "3.6.7"
  }
 },
 "nbformat": 4,
 "nbformat_minor": 2
}
