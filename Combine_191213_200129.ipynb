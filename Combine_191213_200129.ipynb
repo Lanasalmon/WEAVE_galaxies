{
 "cells": [
  {
   "cell_type": "code",
   "execution_count": 1,
   "metadata": {
    "collapsed": true
   },
   "outputs": [],
   "source": [
    "import pandas as pd\n",
    "import numpy as np\n",
    "import astropy.utils.data\n",
    "from astropy.coordinates import SkyCoord,concatenate\n",
    "import astropy.units as u\n",
    "import datetime as _datetime\n",
    "from astropy.io import fits as _fits\n",
    "from astropy.coordinates import FK5,ICRS\n",
    "from astropy.io import ascii\n",
    "from astropy.coordinates import solar_system_ephemeris\n",
    "from astropy.time import Time"
   ]
  },
  {
   "cell_type": "markdown",
   "metadata": {},
   "source": [
    "# Join results tables together"
   ]
  },
  {
   "cell_type": "code",
   "execution_count": 2,
   "metadata": {},
   "outputs": [
    {
     "name": "stderr",
     "output_type": "stream",
     "text": [
      "/anaconda3/lib/python3.6/site-packages/IPython/core/interactiveshell.py:3072: DtypeWarning: Columns (2,3,4,6) have mixed types.Specify dtype option on import or set low_memory=False.\n",
      "  interactivity=interactivity, compiler=compiler, result=result)\n",
      "/anaconda3/lib/python3.6/site-packages/IPython/core/interactiveshell.py:3072: DtypeWarning: Columns (2,3,4,24,25) have mixed types.Specify dtype option on import or set low_memory=False.\n",
      "  interactivity=interactivity, compiler=compiler, result=result)\n"
     ]
    }
   ],
   "source": [
    "df_200219=pd.read_csv('200219_results.csv')\n",
    "df_191213=pd.read_csv('191213g_results.csv')\n",
    "final_results=pd.concat([df_200219,df_191213], axis=0)\n",
    "final_results=final_results.reset_index(drop=True)"
   ]
  },
  {
   "cell_type": "code",
   "execution_count": 3,
   "metadata": {
    "collapsed": true
   },
   "outputs": [],
   "source": [
    "final_results_ps1=final_results[final_results['source']=='PS1']\n",
    "\n",
    "final_results_ps1[['our_id','RA','Dec']].to_csv('ps1_sources_for_gaia.csv')\n",
    "final_results[['our_id','source','RA','Dec']].to_csv('all_sources_for_gaia.csv')"
   ]
  },
  {
   "cell_type": "markdown",
   "metadata": {},
   "source": [
    "# Load in xmatch"
   ]
  },
  {
   "cell_type": "code",
   "execution_count": 4,
   "metadata": {
    "collapsed": true
   },
   "outputs": [],
   "source": [
    "xmatch_ps1_only=pd.read_csv('gaia_ps1_xmatch_result.csv')\n",
    "xmatch_all=pd.read_csv('all_xmatch.csv')"
   ]
  },
  {
   "cell_type": "markdown",
   "metadata": {},
   "source": [
    "# Identify sources not crossmatched"
   ]
  },
  {
   "cell_type": "code",
   "execution_count": 5,
   "metadata": {},
   "outputs": [],
   "source": [
    "common = final_results.merge(xmatch_all,on=['our_id','our_id'])\n",
    "\n",
    "not_xmatched=final_results[(~final_results.our_id.isin(common.our_id))&(~final_results.our_id.isin(common.our_id))]\n"
   ]
  },
  {
   "cell_type": "markdown",
   "metadata": {},
   "source": [
    "# Cut on astrometric error and proper motion"
   ]
  },
  {
   "cell_type": "code",
   "execution_count": 6,
   "metadata": {},
   "outputs": [
    {
     "name": "stdout",
     "output_type": "stream",
     "text": [
      "0.7415034052517898 77.42827387917109 -74.76479400626064 70.13181403174896\n"
     ]
    }
   ],
   "source": [
    "xmatch_all['uwe']=np.sqrt(xmatch_all['astrometric_chi2_al']/(xmatch_all['astrometric_n_good_obs_al']-5))\n",
    "print(min(xmatch_all['uwe']), max(xmatch_all['uwe']), np.nanmin(xmatch_all['pmra']), np.nanmax(xmatch_all['pmdec']))\n",
    "#and cut on pmra pmdec\n"
   ]
  },
  {
   "cell_type": "code",
   "execution_count": 7,
   "metadata": {},
   "outputs": [
    {
     "name": "stdout",
     "output_type": "stream",
     "text": [
      "2.1178473513618283 -2.2904165896792326\n"
     ]
    }
   ],
   "source": [
    "print(np.mean(xmatch_all['uwe']),np.mean(xmatch_all['pmra']))"
   ]
  },
  {
   "cell_type": "code",
   "execution_count": 8,
   "metadata": {},
   "outputs": [],
   "source": [
    "xmatch_ps1_only=xmatch_all[xmatch_all['source']=='PS1']\n",
    "xmatch_GLADE_only=xmatch_all[xmatch_all['source']=='GLADE']\n",
    "\n",
    "xmatch_cut=xmatch_ps1_only[(xmatch_ps1_only['uwe']>1.5) & (np.abs(xmatch_ps1_only['pmra']<3) | (xmatch_ps1_only['pmra']==np.nan)) & (np.abs(xmatch_ps1_only['pmdec']<3) | (xmatch_ps1_only['pmdec']==np.nan))]\n"
   ]
  },
  {
   "cell_type": "markdown",
   "metadata": {},
   "source": [
    "# Recombine gaia-limited df with ps1/GLADE columns"
   ]
  },
  {
   "cell_type": "code",
   "execution_count": 9,
   "metadata": {},
   "outputs": [
    {
     "name": "stdout",
     "output_type": "stream",
     "text": [
      "6572\n"
     ]
    }
   ],
   "source": [
    "xmatch_glade_ps1_cut=pd.concat([xmatch_cut,xmatch_GLADE_only], axis=0)\n",
    "print(len(xmatch_glade_ps1_cut))"
   ]
  },
  {
   "cell_type": "markdown",
   "metadata": {},
   "source": [
    "# If there are duplicate PS1 crossmatches, only take closest one"
   ]
  },
  {
   "cell_type": "code",
   "execution_count": 10,
   "metadata": {
    "collapsed": true
   },
   "outputs": [],
   "source": [
    "def sep(ra,dec,ra1,dec1):\n",
    "    #c1 = SkyCoord(ra=ra, '-69d45m22s', frame='icrs')\n",
    "    c1=SkyCoord(ra*u.deg, dec*u.deg)\n",
    "    c2=SkyCoord(ra1*u.deg, dec1*u.deg)\n",
    "    sep = c1.separation(c2)\n",
    "    return sep.arcsecond\n",
    "\n",
    "xmatch_glade_ps1_cut['separation']=np.abs(sep(xmatch_glade_ps1_cut['ra'].values,xmatch_glade_ps1_cut['dec'].values,xmatch_glade_ps1_cut['ra.1'].values,xmatch_glade_ps1_cut['dec.1'].values))\n",
    "xmatch_glade_ps1_cut=xmatch_glade_ps1_cut.sort_values('separation').drop_duplicates(subset='our_id', keep='first')\n",
    "\n",
    "xmatch_glade_ps1_cut['RA']=xmatch_glade_ps1_cut['ra']\n",
    "xmatch_glade_ps1_cut['Dec']=xmatch_glade_ps1_cut['dec']\n",
    "#"
   ]
  },
  {
   "cell_type": "markdown",
   "metadata": {},
   "source": [
    "# Merge xmatch with non-xmatch"
   ]
  },
  {
   "cell_type": "code",
   "execution_count": 11,
   "metadata": {},
   "outputs": [],
   "source": [
    "total_cut_df = pd.concat([not_xmatched,xmatch_glade_ps1_cut])"
   ]
  },
  {
   "cell_type": "code",
   "execution_count": 12,
   "metadata": {},
   "outputs": [
    {
     "name": "stdout",
     "output_type": "stream",
     "text": [
      "['Unnamed: 0', 'PGC', 'GWGC', 'HyperLEDA', '2MASS', 'SDSS', 'flag1', 'RA', 'Dec', 'dist', 'dist_err', 'z', 'Bmag', 'e_Bmag', 'AbsBMag', 'Jmag', 'e_Jmag', 'Hmag', 'e_Hmag', 'Kmag', 'eKmag', 'flag2', 'flag3', 'source', 'objName', 'objNameHMS', 'objAltName1', 'objAltName2', 'objAltName3', 'objPopularName', 'objID', 'uniquePspsOBid', 'ippObjID', 'surveyID', 'htmID', 'zoneID', 'tessID', 'projectionID', 'skyCellID', 'randomID', 'batchID', 'dvoRegionID', 'processingVersion', 'objInfoFlag', 'qualityFlag', 'raStack', 'decStack', 'raStackErr', 'decStackErr', 'raMeanErr', 'decMeanErr', 'epochMean', 'posMeanChisq', 'cx', 'cy', 'cz', 'lambda', 'beta', 'l', 'b', 'nStackObjectRows', 'nStackDetections', 'nDetections', 'ng', 'nr', 'ni', 'nz', 'ny', 'Column1', 'Column2', 'gQfPerfect', 'gMeanPSFMag', 'gMeanPSFMagErr', 'gMeanPSFMagStd', 'gMeanPSFMagNpt', 'gMeanPSFMagMin', 'gMeanPSFMagMax', 'gMeanKronMag', 'gMeanKronMagErr', 'gMeanKronMagStd', 'gMeanKronMagNpt', 'gMeanApMag', 'gMeanApMagErr', 'gMeanApMagStd', 'gMeanApMagNpt', 'gFlags', 'rQfPerfect', 'rMeanPSFMag', 'rMeanPSFMagErr', 'rMeanPSFMagStd', 'rMeanPSFMagNpt', 'rMeanPSFMagMin', 'rMeanPSFMagMax', 'rMeanKronMag', 'rMeanKronMagErr', 'rMeanKronMagStd', 'rMeanKronMagNpt', 'rMeanApMag', 'rMeanApMagErr', 'rMeanApMagStd', 'rMeanApMagNpt', 'rFlags', 'iQfPerfect', 'iMeanPSFMag', 'iMeanPSFMagErr', 'iMeanPSFMagStd', 'iMeanPSFMagNpt', 'iMeanPSFMagMin', 'iMeanPSFMagMax', 'iMeanKronMag', 'iMeanKronMagErr', 'iMeanKronMagStd', 'iMeanKronMagNpt', 'iMeanApMag', 'iMeanApMagErr', 'iMeanApMagStd', 'iMeanApMagNpt', 'iFlags', 'zQfPerfect', 'zMeanPSFMag', 'zMeanPSFMagErr', 'zMeanPSFMagStd', 'zMeanPSFMagNpt', 'zMeanPSFMagMin', 'zMeanPSFMagMax', 'zMeanKronMag', 'zMeanKronMagErr', 'zMeanKronMagStd', 'zMeanKronMagNpt', 'zMeanApMag', 'zMeanApMagErr', 'zMeanApMagStd', 'zMeanApMagNpt', 'zFlags', 'yQfPerfect', 'yMeanPSFMag', 'yMeanPSFMagErr', 'yMeanPSFMagStd', 'yMeanPSFMagNpt', 'yMeanPSFMagMin', 'yMeanPSFMagMax', 'yMeanKronMag', 'yMeanKronMagErr', 'yMeanKronMagStd', 'yMeanKronMagNpt', 'yMeanApMag', 'yMeanApMagErr', 'yMeanApMagStd', 'yMeanApMagNpt', 'yFlags', 'our_id', 'all_sources_oid', 'col1', 'ra', 'dec', 'solution_id', 'designation', 'source_id', 'random_index', 'ref_epoch', 'ra.1', 'ra_error', 'dec.1', 'dec_error', 'parallax', 'parallax_error', 'parallax_over_error', 'pmra', 'pmra_error', 'pmdec', 'pmdec_error', 'ra_dec_corr', 'ra_parallax_corr', 'ra_pmra_corr', 'ra_pmdec_corr', 'dec_parallax_corr', 'dec_pmra_corr', 'dec_pmdec_corr', 'parallax_pmra_corr', 'parallax_pmdec_corr', 'pmra_pmdec_corr', 'astrometric_n_obs_al', 'astrometric_n_obs_ac', 'astrometric_n_good_obs_al', 'astrometric_n_bad_obs_al', 'astrometric_gof_al', 'astrometric_chi2_al', 'astrometric_excess_noise', 'astrometric_excess_noise_sig', 'astrometric_params_solved', 'astrometric_primary_flag', 'astrometric_weight_al', 'astrometric_pseudo_colour', 'astrometric_pseudo_colour_error', 'mean_varpi_factor_al', 'astrometric_matched_observations', 'visibility_periods_used', 'astrometric_sigma5d_max', 'frame_rotator_object_type', 'matched_observations', 'duplicated_source', 'phot_g_n_obs', 'phot_g_mean_flux', 'phot_g_mean_flux_error', 'phot_g_mean_flux_over_error', 'phot_g_mean_mag', 'phot_bp_n_obs', 'phot_bp_mean_flux', 'phot_bp_mean_flux_error', 'phot_bp_mean_flux_over_error', 'phot_bp_mean_mag', 'phot_rp_n_obs', 'phot_rp_mean_flux', 'phot_rp_mean_flux_error', 'phot_rp_mean_flux_over_error', 'phot_rp_mean_mag', 'phot_bp_rp_excess_factor', 'phot_proc_mode', 'bp_rp', 'bp_g', 'g_rp', 'radial_velocity', 'radial_velocity_error', 'rv_nb_transits', 'rv_template_teff', 'rv_template_logg', 'rv_template_fe_h', 'phot_variable_flag', 'ecl_lon', 'ecl_lat', 'priam_flags', 'teff_val', 'teff_percentile_lower', 'teff_percentile_upper', 'a_g_val', 'a_g_percentile_lower', 'a_g_percentile_upper', 'e_bp_min_rp_val', 'e_bp_min_rp_percentile_lower', 'e_bp_min_rp_percentile_upper', 'flame_flags', 'radius_val', 'radius_percentile_lower', 'radius_percentile_upper', 'lum_val', 'lum_percentile_lower', 'lum_percentile_upper', 'datalink_url', 'epoch_photometry_url', 'uwe', 'separation']\n"
     ]
    }
   ],
   "source": [
    "print(list(total_cut_df.columns))"
   ]
  },
  {
   "cell_type": "markdown",
   "metadata": {},
   "source": [
    "# Template FITS"
   ]
  },
  {
   "cell_type": "code",
   "execution_count": 13,
   "metadata": {},
   "outputs": [
    {
     "name": "stdout",
     "output_type": "stream",
     "text": [
      "['CNAME', 'TARGSRVY', 'TARGPROG', 'TARGCAT', 'TARGID', 'TARGNAME', 'TARGPRIO', 'TARGUSE', 'TARGCLASS', 'PROGTEMP', 'OBSTEMP', 'GAIA_ID', 'GAIA_DR', 'GAIA_RA', 'GAIA_DEC', 'GAIA_EPOCH', 'GAIA_PMRA', 'GAIA_PMRA_ERR', 'GAIA_PMDEC', 'GAIA_PMDEC_ERR', 'GAIA_PARAL', 'GAIA_PARAL_ERR', 'HEALPIX', 'IFU_SPAXEL', 'IFU_PA', 'IFU_DITHER', 'MAG_G', 'MAG_G_ERR', 'MAG_R', 'MAG_R_ERR', 'MAG_I', 'MAG_I_ERR', 'GAIA_MAG_G', 'GAIA_MAG_G_ERR', 'GAIA_MAG_BP', 'GAIA_MAG_BP_ERR', 'GAIA_MAG_RP', 'GAIA_MAG_RP_ERR', 'APS_WL_MIN', 'APS_WL_MAX', 'APS_Z', 'APS_SIGMA', 'APS_TEMPL_LIB', 'APS_TEMPL_LIB_NORM', 'APS_PPXF_WL_MIN', 'APS_PPXF_WL_MAX', 'APS_PPXF_MOM', 'APS_PPXF_DEG_ADD', 'APS_PPXF_DEG_MULT', 'APS_PPXF_NUM_MC', 'APS_GAND_MODE', 'APS_GAND_ERR', 'APS_GAND_RED1', 'APS_GAND_RED2', 'APS_GAND_EBV', 'APS_LS_MODE', 'APS_LS_RES', 'APS_LS_NUM_MC', 'APS_SSP_NUM_WLKR', 'APS_SSP_NUM_CHAIN', 'APS_IFU_MASK', 'APS_IFU_TSSL_TYPE', 'APS_IFU_TSSL_TARG_SNR', 'APS_IFU_TSSL_MIN_SNR', 'APS_IFU_TSSL_COVAR', 'APS_IFU_SRC_ID', 'APS_IFU_SRC_RA', 'APS_IFU_SRC_DEC', 'APS_FLAG', 'COORDCAT', 'COORDCAT_DR', 'COORDCAT_EPOCH', 'COORDCAT_ID', 'GENCAT_INFO', 'PS_DEC', 'PS_DR', 'PS_ID', 'PS_MAG_G', 'PS_MAG_G_ERR', 'PS_MAG_I', 'PS_MAG_I_ERR', 'PS_MAG_R', 'PS_MAG_R_ERR', 'PS_MAG_Y', 'PS_MAG_Y_ERR', 'PS_MAG_Z', 'PS_MAG_Z_ERR', 'PS_RA']\n"
     ]
    }
   ],
   "source": [
    "template_hdulist = _fits.open('WS2021A1-003_CatalogueTemplate.fits')\n",
    "template_primary_hdu = template_hdulist[0]\n",
    "template_hdu = template_hdulist[1]\n",
    "template_column_names = [col.name for col in template_hdu.columns]\n",
    "print(template_column_names)\n"
   ]
  },
  {
   "cell_type": "markdown",
   "metadata": {},
   "source": [
    "## Calculate gaia mag errors"
   ]
  },
  {
   "cell_type": "code",
   "execution_count": 14,
   "metadata": {
    "collapsed": true
   },
   "outputs": [],
   "source": [
    "# according to dr2 https://www.cosmos.esa.int/documents/29201/1773953/Gaia+DR2+primer+version+1.3.pdf/a4459741-6732-7a98-1406-a1bea243df79?t=1581668739161\n",
    "total_cut_df['phot_g_mean_mag_err']=1.086/total_cut_df['phot_g_mean_flux_over_error']\n",
    "total_cut_df['phot_bp_mean_mag_err']=1.086/total_cut_df['phot_bp_mean_flux_over_error']\n",
    "total_cut_df['phot_rp_mean_mag_err']=1.086/total_cut_df['phot_rp_mean_flux_over_error']"
   ]
  },
  {
   "cell_type": "markdown",
   "metadata": {},
   "source": [
    "## Take relevant columns from our catalogue"
   ]
  },
  {
   "cell_type": "code",
   "execution_count": 18,
   "metadata": {},
   "outputs": [
    {
     "name": "stderr",
     "output_type": "stream",
     "text": [
      "/anaconda3/lib/python3.6/site-packages/ipykernel_launcher.py:23: SettingWithCopyWarning: \n",
      "A value is trying to be set on a copy of a slice from a DataFrame.\n",
      "Try using .loc[row_indexer,col_indexer] = value instead\n",
      "\n",
      "See the caveats in the documentation: https://pandas.pydata.org/pandas-docs/stable/user_guide/indexing.html#returning-a-view-versus-a-copy\n",
      "/anaconda3/lib/python3.6/site-packages/ipykernel_launcher.py:26: SettingWithCopyWarning: \n",
      "A value is trying to be set on a copy of a slice from a DataFrame.\n",
      "Try using .loc[row_indexer,col_indexer] = value instead\n",
      "\n",
      "See the caveats in the documentation: https://pandas.pydata.org/pandas-docs/stable/user_guide/indexing.html#returning-a-view-versus-a-copy\n",
      "/anaconda3/lib/python3.6/site-packages/ipykernel_launcher.py:27: SettingWithCopyWarning: \n",
      "A value is trying to be set on a copy of a slice from a DataFrame.\n",
      "Try using .loc[row_indexer,col_indexer] = value instead\n",
      "\n",
      "See the caveats in the documentation: https://pandas.pydata.org/pandas-docs/stable/user_guide/indexing.html#returning-a-view-versus-a-copy\n",
      "/anaconda3/lib/python3.6/site-packages/ipykernel_launcher.py:30: SettingWithCopyWarning: \n",
      "A value is trying to be set on a copy of a slice from a DataFrame.\n",
      "Try using .loc[row_indexer,col_indexer] = value instead\n",
      "\n",
      "See the caveats in the documentation: https://pandas.pydata.org/pandas-docs/stable/user_guide/indexing.html#returning-a-view-versus-a-copy\n",
      "/anaconda3/lib/python3.6/site-packages/ipykernel_launcher.py:31: SettingWithCopyWarning: \n",
      "A value is trying to be set on a copy of a slice from a DataFrame.\n",
      "Try using .loc[row_indexer,col_indexer] = value instead\n",
      "\n",
      "See the caveats in the documentation: https://pandas.pydata.org/pandas-docs/stable/user_guide/indexing.html#returning-a-view-versus-a-copy\n",
      "/anaconda3/lib/python3.6/site-packages/ipykernel_launcher.py:34: SettingWithCopyWarning: \n",
      "A value is trying to be set on a copy of a slice from a DataFrame.\n",
      "Try using .loc[row_indexer,col_indexer] = value instead\n",
      "\n",
      "See the caveats in the documentation: https://pandas.pydata.org/pandas-docs/stable/user_guide/indexing.html#returning-a-view-versus-a-copy\n",
      "/anaconda3/lib/python3.6/site-packages/ipykernel_launcher.py:38: SettingWithCopyWarning: \n",
      "A value is trying to be set on a copy of a slice from a DataFrame.\n",
      "Try using .loc[row_indexer,col_indexer] = value instead\n",
      "\n",
      "See the caveats in the documentation: https://pandas.pydata.org/pandas-docs/stable/user_guide/indexing.html#returning-a-view-versus-a-copy\n",
      "/anaconda3/lib/python3.6/site-packages/ipykernel_launcher.py:41: SettingWithCopyWarning: \n",
      "A value is trying to be set on a copy of a slice from a DataFrame.\n",
      "Try using .loc[row_indexer,col_indexer] = value instead\n",
      "\n",
      "See the caveats in the documentation: https://pandas.pydata.org/pandas-docs/stable/user_guide/indexing.html#returning-a-view-versus-a-copy\n",
      "/anaconda3/lib/python3.6/site-packages/ipykernel_launcher.py:44: SettingWithCopyWarning: \n",
      "A value is trying to be set on a copy of a slice from a DataFrame.\n",
      "Try using .loc[row_indexer,col_indexer] = value instead\n",
      "\n",
      "See the caveats in the documentation: https://pandas.pydata.org/pandas-docs/stable/user_guide/indexing.html#returning-a-view-versus-a-copy\n",
      "/anaconda3/lib/python3.6/site-packages/ipykernel_launcher.py:47: SettingWithCopyWarning: \n",
      "A value is trying to be set on a copy of a slice from a DataFrame.\n",
      "Try using .loc[row_indexer,col_indexer] = value instead\n",
      "\n",
      "See the caveats in the documentation: https://pandas.pydata.org/pandas-docs/stable/user_guide/indexing.html#returning-a-view-versus-a-copy\n",
      "/anaconda3/lib/python3.6/site-packages/ipykernel_launcher.py:57: SettingWithCopyWarning: \n",
      "A value is trying to be set on a copy of a slice from a DataFrame.\n",
      "Try using .loc[row_indexer,col_indexer] = value instead\n",
      "\n",
      "See the caveats in the documentation: https://pandas.pydata.org/pandas-docs/stable/user_guide/indexing.html#returning-a-view-versus-a-copy\n",
      "/anaconda3/lib/python3.6/site-packages/ipykernel_launcher.py:61: SettingWithCopyWarning: \n",
      "A value is trying to be set on a copy of a slice from a DataFrame.\n",
      "Try using .loc[row_indexer,col_indexer] = value instead\n",
      "\n",
      "See the caveats in the documentation: https://pandas.pydata.org/pandas-docs/stable/user_guide/indexing.html#returning-a-view-versus-a-copy\n",
      "/anaconda3/lib/python3.6/site-packages/ipykernel_launcher.py:69: SettingWithCopyWarning: \n",
      "A value is trying to be set on a copy of a slice from a DataFrame.\n",
      "Try using .loc[row_indexer,col_indexer] = value instead\n",
      "\n",
      "See the caveats in the documentation: https://pandas.pydata.org/pandas-docs/stable/user_guide/indexing.html#returning-a-view-versus-a-copy\n"
     ]
    }
   ],
   "source": [
    "total_cut_df = total_cut_df.reset_index(drop=True)\n",
    "FITS_table_from_cat=total_cut_df[['source','our_id','source_id','ra.1', 'dec.1', 'ref_epoch', 'pmra', 'pmra_error',\n",
    "                                  'pmdec', 'pmdec_error','parallax', 'parallax_error','phot_g_mean_mag',\n",
    "                                  'phot_g_mean_mag_err','phot_bp_mean_mag','phot_bp_mean_mag_err',\n",
    "                                  'phot_rp_mean_mag','phot_rp_mean_mag_err', 'gMeanKronMag', 'gMeanKronMagErr',\n",
    "                                  'rMeanKronMag', 'rMeanKronMagErr','iMeanKronMag', 'iMeanKronMagErr',\n",
    "                                  'objID',\n",
    "                                  'gMeanKronMag', 'gMeanKronMagErr','iMeanKronMag', 'iMeanKronMagErr',\n",
    "                                  'rMeanKronMag', 'rMeanKronMagErr','yMeanKronMag', 'yMeanKronMagErr','zMeanKronMag', 'zMeanKronMagErr']]\n",
    "\n",
    "\n",
    "FITS_table_from_cat.columns = ['COORDCAT','TARGID','GAIA_ID','GAIA_RA', 'GAIA_DEC', 'GAIA_EPOCH', 'GAIA_PMRA', 'GAIA_PMRA_ERR', \n",
    "                               'GAIA_PMDEC', 'GAIA_PMDEC_ERR', 'GAIA_PARAL', 'GAIA_PARAL_ERR','GAIA_MAG_G', \n",
    "                               'GAIA_MAG_G_ERR', 'GAIA_MAG_BP', 'GAIA_MAG_BP_ERR', \n",
    "                               'GAIA_MAG_RP', 'GAIA_MAG_RP_ERR', 'MAG_G', 'MAG_G_ERR', \n",
    "                               'MAG_R', 'MAG_R_ERR', 'MAG_I', 'MAG_I_ERR',\n",
    "                               'PS_ID', \n",
    "                               'PS_MAG_G', 'PS_MAG_G_ERR', 'PS_MAG_I', 'PS_MAG_I_ERR', \n",
    "                               'PS_MAG_R', 'PS_MAG_R_ERR', 'PS_MAG_Y', 'PS_MAG_Y_ERR', 'PS_MAG_Z', 'PS_MAG_Z_ERR' ]\n",
    "\n",
    "FITS_table_from_cat.reset_index()\n",
    "#survey identifier\n",
    "FITS_table_from_cat['TARGSRVY']='WS2021A1-003'\n",
    "\n",
    "#optional personal name for programme/catalogue\n",
    "FITS_table_from_cat['TARGPROG']='GW-galaxy'\n",
    "FITS_table_from_cat['TARGCAT']='GW-galaxy'\n",
    "\n",
    "#T for target, GALAXY\n",
    "FITS_table_from_cat['TARGUSE']='T'\n",
    "FITS_table_from_cat['TARGCLASS']='GALAXY'\n",
    "\n",
    "# PROGTEMP for MOS LR 3x1020s 60min OB\n",
    "FITS_table_from_cat['PROGTEMP']=11331\n",
    "\n",
    "#OBSTEMP for max airmass=2.4, moon dist=90 deg, \n",
    "#max sky brightness=20.5, max seeing = 1.3'', transparency=0.8\n",
    "FITS_table_from_cat['OBSTEMP']='GAFAD'\n",
    "\n",
    "#TARGNAME is the same as unique id\n",
    "FITS_table_from_cat['TARGNAME']=FITS_table_from_cat['TARGID']\n",
    "\n",
    "#TARGPRIO = 10.0 for the moment\n",
    "FITS_table_from_cat['TARGPRIO']=10.0\n",
    "\n",
    "#Gaia DR\n",
    "FITS_table_from_cat['GAIA_DR']='PS1'\n",
    "\n",
    "#Optional coordinates provenance columns\n",
    "\n",
    "#PS1 and GLADE V2\n",
    "def version (df):\n",
    "    if df['source'] == 'GLADE' :\n",
    "        return 'V2'\n",
    "    else:\n",
    "        return 'PS1'\n",
    "FITS_table_from_cat['COORDCAT_DR']=total_cut_df.apply (lambda total_cut_df: version(total_cut_df), axis=1)\n",
    "#FITS_table_from_cat['COORDCAT_DR']='2'\n",
    "\n",
    "#don't know epoch of GLADE, so just give epoch to PS1\n",
    "FITS_table_from_cat['COORDCAT_EPOCH']=total_cut_df['epochMean']\n",
    "\n",
    "#ID from GLADE or PS1\n",
    "def cat_id(df):\n",
    "    if df['source'] == 'GLADE' :\n",
    "        return df['SDSS']\n",
    "    else:\n",
    "        return df['objID']\n",
    "FITS_table_from_cat['COORDCAT_ID']=total_cut_df.apply (lambda total_cut_df: cat_id(total_cut_df), axis=1)"
   ]
  },
  {
   "cell_type": "code",
   "execution_count": 19,
   "metadata": {},
   "outputs": [
    {
     "name": "stderr",
     "output_type": "stream",
     "text": [
      "/anaconda3/lib/python3.6/site-packages/ipykernel_launcher.py:2: SettingWithCopyWarning: \n",
      "A value is trying to be set on a copy of a slice from a DataFrame.\n",
      "Try using .loc[row_indexer,col_indexer] = value instead\n",
      "\n",
      "See the caveats in the documentation: https://pandas.pydata.org/pandas-docs/stable/user_guide/indexing.html#returning-a-view-versus-a-copy\n",
      "  \n",
      "/anaconda3/lib/python3.6/site-packages/ipykernel_launcher.py:3: SettingWithCopyWarning: \n",
      "A value is trying to be set on a copy of a slice from a DataFrame.\n",
      "Try using .loc[row_indexer,col_indexer] = value instead\n",
      "\n",
      "See the caveats in the documentation: https://pandas.pydata.org/pandas-docs/stable/user_guide/indexing.html#returning-a-view-versus-a-copy\n",
      "  This is separate from the ipykernel package so we can avoid doing imports until\n",
      "/anaconda3/lib/python3.6/site-packages/ipykernel_launcher.py:4: SettingWithCopyWarning: \n",
      "A value is trying to be set on a copy of a slice from a DataFrame.\n",
      "Try using .loc[row_indexer,col_indexer] = value instead\n",
      "\n",
      "See the caveats in the documentation: https://pandas.pydata.org/pandas-docs/stable/user_guide/indexing.html#returning-a-view-versus-a-copy\n",
      "  after removing the cwd from sys.path.\n"
     ]
    }
   ],
   "source": [
    "# Take PS1 RA and Dec\n",
    "FITS_table_from_cat['PS_RA']=total_cut_df['ra']\n",
    "FITS_table_from_cat['PS_DEC']=total_cut_df['dec']\n",
    "FITS_table_from_cat['PS_DR']='2'\n"
   ]
  },
  {
   "cell_type": "markdown",
   "metadata": {},
   "source": [
    "## If we don't have Gaia RA/Dec, transform PS1/GLADE to J2015.5"
   ]
  },
  {
   "cell_type": "code",
   "execution_count": 20,
   "metadata": {},
   "outputs": [
    {
     "ename": "TypeError",
     "evalue": "Coordinate frame got unexpected keywords: ['obstime']",
     "output_type": "error",
     "traceback": [
      "\u001b[0;31m---------------------------------------------------------------------------\u001b[0m",
      "\u001b[0;31mTypeError\u001b[0m                                 Traceback (most recent call last)",
      "\u001b[0;32m<ipython-input-20-fbc646968f2b>\u001b[0m in \u001b[0;36m<module>\u001b[0;34m\u001b[0m\n\u001b[1;32m      4\u001b[0m \u001b[0;31m# precess to J2015.5, i.e., Gaia reference system\u001b[0m\u001b[0;34m\u001b[0m\u001b[0;34m\u001b[0m\u001b[0;34m\u001b[0m\u001b[0m\n\u001b[1;32m      5\u001b[0m \u001b[0;32mwith\u001b[0m \u001b[0msolar_system_ephemeris\u001b[0m\u001b[0;34m.\u001b[0m\u001b[0mset\u001b[0m\u001b[0;34m(\u001b[0m\u001b[0;34m'jpl'\u001b[0m\u001b[0;34m)\u001b[0m\u001b[0;34m:\u001b[0m\u001b[0;34m\u001b[0m\u001b[0;34m\u001b[0m\u001b[0m\n\u001b[0;32m----> 6\u001b[0;31m     \u001b[0mc_Gaia\u001b[0m \u001b[0;34m=\u001b[0m \u001b[0mc\u001b[0m\u001b[0;34m.\u001b[0m\u001b[0mtransform_to\u001b[0m\u001b[0;34m(\u001b[0m\u001b[0mICRS\u001b[0m\u001b[0;34m(\u001b[0m\u001b[0mobstime\u001b[0m\u001b[0;34m=\u001b[0m\u001b[0mTime\u001b[0m\u001b[0;34m(\u001b[0m\u001b[0;34m'J2015.5'\u001b[0m\u001b[0;34m)\u001b[0m\u001b[0;34m)\u001b[0m\u001b[0;34m)\u001b[0m\u001b[0;34m\u001b[0m\u001b[0;34m\u001b[0m\u001b[0m\n\u001b[0m\u001b[1;32m      7\u001b[0m \u001b[0;34m\u001b[0m\u001b[0m\n\u001b[1;32m      8\u001b[0m \u001b[0mFITS_table_from_cat\u001b[0m \u001b[0;34m=\u001b[0m \u001b[0mFITS_table_from_cat\u001b[0m\u001b[0;34m.\u001b[0m\u001b[0mreset_index\u001b[0m\u001b[0;34m(\u001b[0m\u001b[0mdrop\u001b[0m\u001b[0;34m=\u001b[0m\u001b[0;32mTrue\u001b[0m\u001b[0;34m)\u001b[0m\u001b[0;34m\u001b[0m\u001b[0;34m\u001b[0m\u001b[0m\n",
      "\u001b[0;32m/anaconda3/lib/python3.6/site-packages/astropy/coordinates/baseframe.py\u001b[0m in \u001b[0;36m__init__\u001b[0;34m(self, copy, representation_type, differential_type, *args, **kwargs)\u001b[0m\n\u001b[1;32m    607\u001b[0m             raise TypeError(\n\u001b[1;32m    608\u001b[0m                 'Coordinate frame got unexpected keywords: {}'.format(\n\u001b[0;32m--> 609\u001b[0;31m                     list(kwargs)))\n\u001b[0m\u001b[1;32m    610\u001b[0m \u001b[0;34m\u001b[0m\u001b[0m\n\u001b[1;32m    611\u001b[0m         \u001b[0;31m# We do ``is None`` because self._data might evaluate to false for\u001b[0m\u001b[0;34m\u001b[0m\u001b[0;34m\u001b[0m\u001b[0;34m\u001b[0m\u001b[0m\n",
      "\u001b[0;31mTypeError\u001b[0m: Coordinate frame got unexpected keywords: ['obstime']"
     ]
    }
   ],
   "source": [
    "# ingest the coordinates\n",
    "c = SkyCoord(ra=total_cut_df['RA'], dec=total_cut_df['Dec'], unit='deg', frame='fk5')\n",
    "\n",
    "# precess to J2015.5, i.e., Gaia reference system\n",
    "with solar_system_ephemeris.set('jpl'): \n",
    "    c_Gaia = c.transform_to(ICRS(obstime=Time('J2015.5')))\n",
    "\n",
    "FITS_table_from_cat = FITS_table_from_cat.reset_index(drop=True)"
   ]
  },
  {
   "cell_type": "code",
   "execution_count": null,
   "metadata": {
    "collapsed": true
   },
   "outputs": [],
   "source": []
  },
  {
   "cell_type": "code",
   "execution_count": null,
   "metadata": {
    "collapsed": true
   },
   "outputs": [],
   "source": []
  }
 ],
 "metadata": {
  "kernelspec": {
   "display_name": "Python 3",
   "language": "python",
   "name": "python3"
  },
  "language_info": {
   "codemirror_mode": {
    "name": "ipython",
    "version": 3
   },
   "file_extension": ".py",
   "mimetype": "text/x-python",
   "name": "python",
   "nbconvert_exporter": "python",
   "pygments_lexer": "ipython3",
   "version": "3.6.7"
  }
 },
 "nbformat": 4,
 "nbformat_minor": 2
}
