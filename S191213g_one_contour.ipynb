{
 "cells": [
  {
   "cell_type": "markdown",
   "metadata": {},
   "source": [
    "## Imports"
   ]
  },
  {
   "cell_type": "code",
   "execution_count": 1,
   "metadata": {},
   "outputs": [
    {
     "name": "stderr",
     "output_type": "stream",
     "text": [
      "In /anaconda3/lib/python3.6/site-packages/matplotlib/mpl-data/stylelib/_classic_test.mplstyle: \n",
      "The text.latex.preview rcparam was deprecated in Matplotlib 3.3 and will be removed two minor releases later.\n",
      "In /anaconda3/lib/python3.6/site-packages/matplotlib/mpl-data/stylelib/_classic_test.mplstyle: \n",
      "The mathtext.fallback_to_cm rcparam was deprecated in Matplotlib 3.3 and will be removed two minor releases later.\n",
      "In /anaconda3/lib/python3.6/site-packages/matplotlib/mpl-data/stylelib/_classic_test.mplstyle: Support for setting the 'mathtext.fallback_to_cm' rcParam is deprecated since 3.3 and will be removed two minor releases later; use 'mathtext.fallback : 'cm' instead.\n",
      "In /anaconda3/lib/python3.6/site-packages/matplotlib/mpl-data/stylelib/_classic_test.mplstyle: \n",
      "The validate_bool_maybe_none function was deprecated in Matplotlib 3.3 and will be removed two minor releases later.\n",
      "In /anaconda3/lib/python3.6/site-packages/matplotlib/mpl-data/stylelib/_classic_test.mplstyle: \n",
      "The savefig.jpeg_quality rcparam was deprecated in Matplotlib 3.3 and will be removed two minor releases later.\n",
      "In /anaconda3/lib/python3.6/site-packages/matplotlib/mpl-data/stylelib/_classic_test.mplstyle: \n",
      "The keymap.all_axes rcparam was deprecated in Matplotlib 3.3 and will be removed two minor releases later.\n",
      "In /anaconda3/lib/python3.6/site-packages/matplotlib/mpl-data/stylelib/_classic_test.mplstyle: \n",
      "The animation.avconv_path rcparam was deprecated in Matplotlib 3.3 and will be removed two minor releases later.\n",
      "In /anaconda3/lib/python3.6/site-packages/matplotlib/mpl-data/stylelib/_classic_test.mplstyle: \n",
      "The animation.avconv_args rcparam was deprecated in Matplotlib 3.3 and will be removed two minor releases later.\n"
     ]
    }
   ],
   "source": [
    "import lxml.etree\n",
    "import healpy as hp\n",
    "import numpy as np\n",
    "import pandas as pd\n",
    "import gcn\n",
    "import astropy_healpix\n",
    "import astropy.utils.data\n",
    "from astropy.coordinates import SkyCoord,concatenate\n",
    "import astropy.units as u\n",
    "from ligo.skymap.postprocess import crossmatch\n",
    "from ligo.skymap.io import read_sky_map\n",
    "import ligo.skymap.plot\n",
    "from contours import contour_plots,join_0_360,split_contours,integrated_probability,hpix_contours\n",
    "from GLADE import GLADEV2coordinates,PS1coordinates\n",
    "from skymapio import readskymap\n",
    "import matplotlib.pyplot as plt\n",
    "from collections import OrderedDict\n",
    "from astrobase.coordutils import make_kdtree\n",
    "from astrobase.coordutils import conesearch_kdtree\n",
    "from matplotlib.patches import Circle\n",
    "from fields import inside_circle, circ, intersect_2_or_3, split_between_3_overlap, split_between_2_overlap\n"
   ]
  },
  {
   "cell_type": "markdown",
   "metadata": {},
   "source": [
    "## Loading the alert"
   ]
  },
  {
   "cell_type": "code",
   "execution_count": 2,
   "metadata": {
    "collapsed": true
   },
   "outputs": [],
   "source": [
    "# Load the alert\n",
    "\n",
    "payload = open('S191213g-4-Update.xml', 'rb').read()\n",
    "root = lxml.etree.fromstring(payload)\n",
    "params = {elem.attrib['name']:\n",
    "              elem.attrib['value']\n",
    "              for elem in root.iterfind('.//Param')}"
   ]
  },
  {
   "cell_type": "markdown",
   "metadata": {},
   "source": [
    "## Read skymap and create x% contours"
   ]
  },
  {
   "cell_type": "code",
   "execution_count": 3,
   "metadata": {
    "collapsed": true
   },
   "outputs": [],
   "source": [
    "# get the ID and alert type\n",
    "graceid=params['GraceID']\n",
    "prelim=params['AlertType']+params['Pkt_Ser_Num']\n",
    "\n",
    "# Read the HEALPix sky map and the FITS header.\n",
    "skymap, prob, distmu, distsigma, distnorm, npix, nside, distest, diststd = readskymap(params['skymap_fits'])\n",
    "\n",
    "# Get the integrated probability map\n",
    "csm=integrated_probability(prob)\n",
    "\n",
    "# Identify the x% contours\n",
    "contours=hpix_contours(csm,levels=[0.35],nest=False)\n",
    "levels=[0.35]\n",
    "levelsper=[35]"
   ]
  },
  {
   "cell_type": "markdown",
   "metadata": {},
   "source": [
    "## Load GLADE and PS1 sources"
   ]
  },
  {
   "cell_type": "code",
   "execution_count": 4,
   "metadata": {},
   "outputs": [
    {
     "name": "stdout",
     "output_type": "stream",
     "text": [
      "lengthofdata 3262881\n"
     ]
    }
   ],
   "source": [
    "# Get all galaxies from GLADE\n",
    "coordinates1,data=GLADEV2coordinates()\n",
    "\n",
    "# Get all extended sources from PS1\n",
    "coordinates, data1= PS1coordinates('GW191213g_total_onecontour_Lana_S.csv')\n",
    "data1['raMean']=data1['RA']\n",
    "data1['decMean']=data1['Dec']\n",
    "# concatenate coordinates of GLADE and PS1 sources\n",
    "coordinates=concatenate([coordinates1, coordinates])\n",
    "data = pd.concat([data,data1])"
   ]
  },
  {
   "cell_type": "markdown",
   "metadata": {},
   "source": [
    "## Crossmatch skymap with sources"
   ]
  },
  {
   "cell_type": "code",
   "execution_count": 12,
   "metadata": {},
   "outputs": [
    {
     "name": "stdout",
     "output_type": "stream",
     "text": [
      "[4.27054104e-05 8.51536251e-05 1.27600682e-04 ... 1.00000000e+00\n",
      " 1.00000000e+00 1.00000000e+00]\n",
      "contouridx []\n",
      "skymap []\n"
     ]
    },
    {
     "name": "stderr",
     "output_type": "stream",
     "text": [
      "/anaconda3/lib/python3.6/site-packages/ipykernel_launcher.py:19: SettingWithCopyWarning: \n",
      "A value is trying to be set on a copy of a slice from a DataFrame.\n",
      "Try using .loc[row_indexer,col_indexer] = value instead\n",
      "\n",
      "See the caveats in the documentation: https://pandas.pydata.org/pandas-docs/stable/user_guide/indexing.html#returning-a-view-versus-a-copy\n"
     ]
    }
   ],
   "source": [
    "# read sky map\n",
    "url='https://gracedb.ligo.org/api/superevents/'+graceid+'/files/LALInference.multiorder.fits'\n",
    "skymap=read_sky_map(url, moc=True)\n",
    "\n",
    "# healpy crossmatch skymap with galaxies\n",
    "result=crossmatch(skymap,coordinates)\n",
    "\n",
    "#separate masked array into separate contours\n",
    "split_dec, split_ra = split_contours(contours, levels[0],0)\n",
    "split_ra2, split_dec2=join_0_360(split_ra, split_dec)\n",
    "\n",
    "# just take galaxies within x%\n",
    "results=data[result.searched_prob<0.4]\n",
    "ra_incontour=results['RA'].values\n",
    "dec_incontour=results['Dec'].values\n",
    "index=[]\n",
    "for t in range(0,len(results)):\n",
    "    index.append('191213_'+str(t))\n",
    "results['our_id']=index\n",
    "results=results[(results['RA']>250.5) & (results['RA']<252.5) & (results['Dec']>-5) & (results['Dec']<-2)]\n",
    "results.to_csv('191213g_results.csv')"
   ]
  },
  {
   "cell_type": "markdown",
   "metadata": {},
   "source": [
    "## Plot"
   ]
  },
  {
   "cell_type": "code",
   "execution_count": 15,
   "metadata": {},
   "outputs": [
    {
     "data": {
      "image/png": "[encoded data removed]",
      "text/plain": [
       "<Figure size 432x288 with 1 Axes>"
      ]
     },
     "metadata": {},
     "output_type": "display_data"
    }
   ],
   "source": [
    "# plot contours and galaxies\n",
    "plt.figure(1)\n",
    "plt.plot( ra_incontour, dec_incontour,'r.',markersize=0.1)\n",
    "for r in range(0,len(split_ra2)):\n",
    "    plt.plot(split_ra2[r],split_dec2[r],'-')\n",
    "\n",
    "plt.grid(color='r', linestyle='-', linewidth=1, which='both')\n",
    "\n",
    "# for 75% contours 200129m, define field centres.\n",
    "circ_ra=[251.5,251.5]\n",
    "circ_dec=[-3, -4]\n",
    "\n",
    "for k in range(0,len(circ_ra)):\n",
    "    plt.gca().add_patch(Circle((circ_ra[k],circ_dec[k]),radius=1,linewidth=2,edgecolor='b',facecolor='none'))\n",
    "\n",
    "plt.ylabel('Declination (degrees)')\n",
    "plt.xlabel('Right Ascension (degrees)')\n",
    "plt.xlim(250, 253)\n",
    "plt.ylim(-5,-2)\n",
    "plt.show()"
   ]
  },
  {
   "cell_type": "markdown",
   "metadata": {},
   "source": [
    "## Galaxies in each field"
   ]
  },
  {
   "cell_type": "code",
   "execution_count": 8,
   "metadata": {
    "collapsed": true
   },
   "outputs": [],
   "source": [
    "# identify set of galaxies in each field - STOP HERE IF YOU JUST WANT NUM GALAXIES IN EACH FIELD\n",
    "ra_incirc=[]\n",
    "dec_incirc=[]\n",
    "ind_circ=[]\n",
    "for r in range(0,len(circ_ra)):\n",
    "    raincirc, decincirc=zip(*[(ra_incontour[d],dec_incontour[d]) for d,(x,y) in enumerate(zip(ra_incontour,dec_incontour)) if circ(ra_incontour[d],dec_incontour[d],circ_dec[r],circ_ra[r])<1 ])\n",
    "    ind_circ.append([ d for d,(x,y) in enumerate(zip(ra_incontour,dec_incontour)) if circ(ra_incontour[d],dec_incontour[d],circ_dec[r],circ_ra[r])<1 ])\n",
    "    ra_incirc.append(raincirc)\n",
    "    dec_incirc.append(decincirc)\n"
   ]
  },
  {
   "cell_type": "markdown",
   "metadata": {},
   "source": [
    "## Intersecting fields"
   ]
  },
  {
   "cell_type": "code",
   "execution_count": 9,
   "metadata": {
    "collapsed": true
   },
   "outputs": [],
   "source": [
    "# identify fields that intersect with each other\n",
    "intersec=[]\n",
    "for x in range(0,len(circ_ra)):\n",
    "    for f in range(0,len(circ_ra)):\n",
    "        t = inside_circle(circ_dec[x], circ_ra[x], circ_dec[f], circ_ra[f], 1, 1)  \n",
    "        if t>=0:\n",
    "            intersec.append([x, f])\n",
    "\n",
    "# identify galaxies in overlapping regions\n",
    "galsintersect=[]\n",
    "for d in range(0,len(circ_ra)):\n",
    "    for s in range(0,len(intersec)):\n",
    "        if d==intersec[s][0] and intersec[s][0]!=intersec[s][1]:\n",
    "            galsintersect.append([elem for elem in ind_circ[d] if elem in ind_circ[intersec[s][1]]])\n",
    "        else:\n",
    "            galsintersect.append([])\n",
    "\n",
    "# Find intersecting sets of galaxies\n",
    "intersect_set=[]\n",
    "for d in range(0,len(circ_ra)):\n",
    "    for s in range(0,len(intersec)):\n",
    "        for t in range(0,len(intersec)):\n",
    "            if d==intersec[s][0] and d==intersec[t][0] and s!=t and intersec[t][0]!=intersec[t][1]:\n",
    "                if [d, intersec[t][1]] not in intersect_set and [intersec[t][1], d] not in intersect_set:\n",
    "                    intersect_set.append([d,intersec[t][1]])\n",
    "                    intersect=set(galsintersect[s]).intersection(set(galsintersect[t]))\n",
    "\n",
    "# see if there are galaxies that are in overlapping regions\n",
    "overlapping_regions=[]\n",
    "for d in range(0,len(circ_ra)):\n",
    "    result = [i for i in intersect_set if i[0]==d]\n",
    "    newcross=[]\n",
    "    for r in range(0,len(result)):\n",
    "        for e in range(0,len(result)):\n",
    "            if r!=e:\n",
    "                crossresult=[i for i in intersect_set if i[0]==result[r][1] and i[1]==result[e][1]]\n",
    "                if crossresult!=[]:\n",
    "                    newcross.append(crossresult[0])     \n",
    "    result.extend(newcross)\n",
    "    overlapping_regions.append(result)\n",
    "    \n",
    "# set of fields that intersect with 2 or 3 others.\n",
    "twointersectsets, threeintersectsets, twointersectvals, threeintersectvals,threelist = intersect_2_or_3(circ_ra, overlapping_regions, ind_circ)\n",
    "\n",
    "# remove from list of fields with 2 intersections if there are 3 intersections.\n",
    "for i in reversed(range(len(twointersectsets))):\n",
    "    for t in reversed(range(len(twointersectsets[i]))):\n",
    "        if twointersectsets[i][t] in threelist:\n",
    "            del twointersectsets[i][t]\n",
    "\n",
    "\n"
   ]
  },
  {
   "cell_type": "markdown",
   "metadata": {},
   "source": [
    "## Split sources in overlapping regions between fields"
   ]
  },
  {
   "cell_type": "code",
   "execution_count": 10,
   "metadata": {},
   "outputs": [
    {
     "name": "stdout",
     "output_type": "stream",
     "text": [
      "1033 sources in field 1\n",
      "1113 sources in field 2\n"
     ]
    }
   ],
   "source": [
    "targets=[set(a) for a in ind_circ]\n",
    "gals_in_one_field=[]\n",
    "\n",
    "# Identify galaxies that are not in other fields.\n",
    "for set_element in targets:\n",
    "    gals_in_one_field.append(set_element.difference(set.union(*[x for x in targets if x is not set_element])))\n",
    "\n",
    "for d in range(0,len(circ_ra)):\n",
    "    ra_incirc[d]=[ra_incontour[i] for i in list(gals_in_one_field[d])] \n",
    "    dec_incirc[d]=[dec_incontour[i] for i in list(gals_in_one_field[d])] \n",
    "    ind_circ[d]=[i for i in list(gals_in_one_field[d])] \n",
    "\n",
    "# Split galaxies evenly between overlapping fields.\n",
    "ra_incirc, dec_incirc, ind_circ = split_between_3_overlap(circ_ra, threeintersectvals, threeintersectsets, ra_incirc, dec_incirc, ind_circ,ra_incontour,dec_incontour)\n",
    "ra_incirc, dec_incirc, ind_circ = split_between_2_overlap(circ_ra, twointersectvals, twointersectsets, ra_incirc, dec_incirc, ind_circ,ra_incontour,dec_incontour)\n",
    "\n",
    "for i in range(0,len(ind_circ)):\n",
    "    print(len(ind_circ[i]), 'sources in field', i+1)\n"
   ]
  },
  {
   "cell_type": "markdown",
   "metadata": {},
   "source": [
    "## How many are within 1'?"
   ]
  },
  {
   "cell_type": "code",
   "execution_count": 11,
   "metadata": {
    "collapsed": true
   },
   "outputs": [],
   "source": [
    "# Identify how many are within 1 arcmin of each other\n",
    "tree=make_kdtree(ra_incontour,dec_incontour)\n",
    "conesearcheslist=[]\n",
    "for i in range(0,len(ra_incontour)):\n",
    "    conesearches=[]\n",
    "    conesearch=conesearch_kdtree(tree,ra_incontour[i],dec_incontour[i],0.016666667)\n",
    "    for j in range(0,len(conesearch)):\n",
    "        if conesearch[j]!=i:\n",
    "            conesearches.append(conesearch[j])\n",
    "    conesearcheslist.append(conesearches)\n",
    "\n",
    "# pairs of galaxies within 1 arcmin\n",
    "pairs=[]\n",
    "for i in range(0,len(conesearcheslist)):\n",
    "    for k in range(0,len(conesearcheslist[i])):\n",
    "        pairs.append([i,conesearcheslist[i][k]])\n",
    "\n",
    "# remove reversed duplicates\n",
    "for i in range(0,len(pairs)):\n",
    "    pairs[i]=sorted(pairs[i])\n",
    "newlist=OrderedDict((tuple(x), x) for x in pairs).values()\n",
    "newlist=list(newlist)\n",
    "\n",
    "#print(len(newlist),'pairs close to each other')"
   ]
  }
 ],
 "metadata": {
  "kernelspec": {
   "display_name": "Python 3",
   "language": "python",
   "name": "python3"
  },
  "language_info": {
   "codemirror_mode": {
    "name": "ipython",
    "version": 3
   },
   "file_extension": ".py",
   "mimetype": "text/x-python",
   "name": "python",
   "nbconvert_exporter": "python",
   "pygments_lexer": "ipython3",
   "version": "3.6.7"
  }
 },
 "nbformat": 4,
 "nbformat_minor": 2
}
